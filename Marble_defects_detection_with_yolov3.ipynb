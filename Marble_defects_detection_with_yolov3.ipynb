{
 "cells": [
  {
   "cell_type": "markdown",
   "metadata": {
    "id": "YC2_5RsdaVg8"
   },
   "source": [
    "**Connect Google Drive**"
   ]
  },
  {
   "cell_type": "code",
   "execution_count": null,
   "metadata": {
    "colab": {
     "base_uri": "https://localhost:8080/"
    },
    "id": "8xbbOVoV5j--",
    "outputId": "c6e8fb49-92ab-47e1-c8d7-80a17a0bc841"
   },
   "outputs": [],
   "source": [
    "# Check if NVIDIA GPU is enabled\n",
    "!nvidia-smi"
   ]
  },
  {
   "cell_type": "code",
   "execution_count": null,
   "metadata": {
    "colab": {
     "base_uri": "https://localhost:8080/"
    },
    "id": "k2ePofYG5oyn",
    "outputId": "b4b024db-ea48-4749-ca57-02ba007870db"
   },
   "outputs": [],
   "source": [
    "from google.colab import drive\n",
    "drive.mount('/content/gdrive')\n",
    "!ln -s /content/gdrive/My\\ Drive/ /mydrive\n",
    "!ls /mydrive"
   ]
  },
  {
   "cell_type": "markdown",
   "metadata": {
    "id": "HX05HyawSyDY"
   },
   "source": [
    "# **1) Clone the Darknet**"
   ]
  },
  {
   "cell_type": "code",
   "execution_count": null,
   "metadata": {
    "colab": {
     "base_uri": "https://localhost:8080/"
    },
    "id": "1eO-pPFO6Vs-",
    "outputId": "9b517c37-a947-4f49-bd70-29edd17a954e"
   },
   "outputs": [],
   "source": [
    "!git clone https://github.com/AlexeyAB/darknet"
   ]
  },
  {
   "cell_type": "markdown",
   "metadata": {
    "id": "7UwHpWaQTIZ1"
   },
   "source": [
    "# **2) Compile Darknet using Nvidia GPU**"
   ]
  },
  {
   "cell_type": "code",
   "execution_count": null,
   "metadata": {
    "colab": {
     "base_uri": "https://localhost:8080/"
    },
    "id": "C4mNrU0a63fX",
    "outputId": "86fe0d5a-2530-48e4-baba-967d55ff7f78"
   },
   "outputs": [],
   "source": [
    "# Change makefile to have GPU and OPENCV enabled\n",
    "%cd darknet\n",
    "!sed -i 's/OPENCV=0/OPENCV=1/' Makefile\n",
    "!sed -i 's/GPU=0/GPU=1/' Makefile\n",
    "!sed -i 's/CUDNN=0/CUDNN=1/' Makefile\n",
    "!make"
   ]
  },
  {
   "cell_type": "markdown",
   "metadata": {
    "id": "_lTgYwc4TW5L"
   },
   "source": [
    "# **3) Configure Darknet network for training YOLO V3**"
   ]
  },
  {
   "cell_type": "code",
   "execution_count": null,
   "metadata": {
    "id": "SximOj-G6-bT"
   },
   "outputs": [],
   "source": [
    "# Make a copy of yolov3.cfg\n",
    "!cp cfg/yolov3.cfg cfg/yolov3_training.cfg"
   ]
  },
  {
   "cell_type": "code",
   "execution_count": null,
   "metadata": {
    "id": "nnzZozQb7Rgk"
   },
   "outputs": [],
   "source": [
    "# Change lines in yolov3.cfg file\n",
    "!sed -i 's/batch=1/batch=64/' cfg/yolov3_training.cfg\n",
    "!sed -i 's/subdivisions=1/subdivisions=16/' cfg/yolov3_training.cfg\n",
    "!sed -i 's/max_batches = 500200/max_batches = 4000/' cfg/yolov3_training.cfg\n",
    "!sed -i '610 s@classes=80@classes=2@' cfg/yolov3_training.cfg\n",
    "!sed -i '696 s@classes=80@classes=2@' cfg/yolov3_training.cfg\n",
    "!sed -i '783 s@classes=80@classes=2@' cfg/yolov3_training.cfg\n",
    "!sed -i '603 s@filters=255@filters=21@' cfg/yolov3_training.cfg\n",
    "!sed -i '689 s@filters=255@filters=21@' cfg/yolov3_training.cfg\n",
    "!sed -i '776 s@filters=255@filters=21@' cfg/yolov3_training.cfg"
   ]
  },
  {
   "cell_type": "markdown",
   "metadata": {
    "id": "rUm68ljyVAyi"
   },
   "source": [
    "# **3) Create .names and .data files**"
   ]
  },
  {
   "cell_type": "code",
   "execution_count": null,
   "metadata": {
    "id": "OTbmp4uT70pD"
   },
   "outputs": [],
   "source": [
    "!echo 'dot\\crack' > data/obj.names\n",
    "!echo -e 'classes= 2\\ntrain  = data/train.txt\\nvalid  = data/test.txt\\nnames = data/obj.names\\nbackup = /mydrive/custom_object_detection_yolo' > data/obj.data"
   ]
  },
  {
   "cell_type": "markdown",
   "metadata": {
    "id": "tNiEttqtVOlU"
   },
   "source": [
    "# **4) Save yolov3.training.cfg and obj.names files in Google Drive**"
   ]
  },
  {
   "cell_type": "code",
   "execution_count": null,
   "metadata": {
    "id": "weBGNpx2AvJE"
   },
   "outputs": [],
   "source": [
    "!cp cfg/yolov3_training.cfg /mydrive/custom_object_detection_yolo/yolov3_testing.cfg\n",
    "!cp data/obj.names /mydrive/custom_object_detection_yolo/classes.txt"
   ]
  },
  {
   "cell_type": "markdown",
   "metadata": {
    "id": "Pp40XDmdVzZN"
   },
   "source": [
    "# **5) Download pre-trained weights for the convolutional layers file**"
   ]
  },
  {
   "cell_type": "code",
   "execution_count": null,
   "metadata": {
    "colab": {
     "base_uri": "https://localhost:8080/"
    },
    "id": "jxVTNLVo8WRD",
    "outputId": "0b934088-491d-4532-e2a9-d6f490c604ac"
   },
   "outputs": [],
   "source": [
    "!wget https://pjreddie.com/media/files/darknet53.conv.74"
   ]
  },
  {
   "cell_type": "markdown",
   "metadata": {
    "id": "JlAeVQ5PV9MJ"
   },
   "source": [
    "# **6) Create a folder and unzip the image dataset**\n",
    "**The images need to be inside a zip archive called \"images.zip\" and they need to be inside the folder \"custom_object_detection_yolo\" on Google Drive**"
   ]
  },
  {
   "cell_type": "code",
   "execution_count": null,
   "metadata": {
    "colab": {
     "base_uri": "https://localhost:8080/"
    },
    "id": "Gnnp-gk68d-j",
    "outputId": "8d0bb7ca-ec40-4c09-d207-9ee4b685d114"
   },
   "outputs": [],
   "source": [
    "!mkdir data/obj\n",
    "!unzip /mydrive/custom_object_detection_yolo/yolo_images.zip -d data/obj"
   ]
  },
  {
   "cell_type": "markdown",
   "metadata": {
    "id": "tKEr8TTyW87H"
   },
   "source": [
    "**We're going to convert the class index on the .txt files. As we're working with two class, it's supposed to be class 0 and 1. If the index is different from 0 or 1 then we're going to change it.**"
   ]
  },
  {
   "cell_type": "code",
   "execution_count": null,
   "metadata": {
    "colab": {
     "base_uri": "https://localhost:8080/"
    },
    "id": "NokruSBy-2rz",
    "outputId": "49a07e94-21f5-4a92-be2f-866ab87605de"
   },
   "outputs": [],
   "source": [
    "import glob\n",
    "import os\n",
    "import re\n",
    "\n",
    "txt_file_paths = glob.glob(r\"data/obj/*.txt\")\n",
    "for i, file_path in enumerate(txt_file_paths):\n",
    "    # get image size\n",
    "    with open(file_path, \"r\") as f_o:\n",
    "        lines = f_o.readlines()\n",
    "\n",
    "        text_converted = []\n",
    "        for line in lines:\n",
    "            print(line)\n",
    "            numbers = re.findall(\"[0-9.]+\", line)\n",
    "            if numbers:\n",
    "\n",
    "                # Define coordinates\n",
    "                if numbers[0] == '15':\n",
    "                  text = \"{} {} {} {} {}\".format(0, numbers[1], numbers[2], numbers[3], numbers[4])\n",
    "                elif numbers[0] == '16':\n",
    "                  text = \"{} {} {} {} {}\".format(1, numbers[1], numbers[2], numbers[3], numbers[4])\n",
    "                text_converted.append(text)\n",
    "                print(i, file_path)\n",
    "                print(text)\n",
    "        # Write file\n",
    "        with open(file_path, 'w') as fp:\n",
    "            for item in text_converted:\n",
    "                fp.writelines(\"%s\\n\" % item)"
   ]
  },
  {
   "cell_type": "markdown",
   "metadata": {
    "id": "ZAsERXpAXnhR"
   },
   "source": [
    "## **7) Create train.txt file**"
   ]
  },
  {
   "cell_type": "code",
   "execution_count": null,
   "metadata": {
    "colab": {
     "base_uri": "https://localhost:8080/"
    },
    "id": "xCXqvbVp8y7n",
    "outputId": "fff75ff0-f154-457f-e725-07a32db95f96"
   },
   "outputs": [],
   "source": [
    "import glob\n",
    "images_list = glob.glob(\"data/obj/*.jpg\")\n",
    "\n",
    "file = open(\"data/train.txt\", \"w\") \n",
    "file.write(\"\\n\".join(images_list)) \n",
    "file.close() "
   ]
  },
  {
   "cell_type": "markdown",
   "metadata": {
    "id": "oNO0Kkq7YYow"
   },
   "source": [
    "# **8) Start the training**"
   ]
  },
  {
   "cell_type": "code",
   "execution_count": null,
   "metadata": {
    "colab": {
     "base_uri": "https://localhost:8080/"
    },
    "id": "grOMD-PL94zx",
    "outputId": "99671c3b-02d4-411b-e574-c81a49ef0784"
   },
   "outputs": [],
   "source": [
    "!./darknet detector train data/obj.data cfg/yolov3_training.cfg darknet53.conv.74 -dont_show\n",
    "#Uncomment below and comment above to re-start your training from last saved weights\n",
    "#!./darknet detector train data/obj.data cfg/yolov3_training.cfg /content/gdrive/MyDrive/custom_object_detection_yolo/yolov3_training_last.weights -dont_show"
   ]
  }
 ],
 "metadata": {
  "accelerator": "GPU",
  "colab": {
   "collapsed_sections": [],
   "provenance": []
  },
  "gpuClass": "standard",
  "kernelspec": {
   "display_name": "Python 3 (ipykernel)",
   "language": "python",
   "name": "python3"
  },
  "language_info": {
   "codemirror_mode": {
    "name": "ipython",
    "version": 3
   },
   "file_extension": ".py",
   "mimetype": "text/x-python",
   "name": "python",
   "nbconvert_exporter": "python",
   "pygments_lexer": "ipython3",
   "version": "3.10.3"
  }
 },
 "nbformat": 4,
 "nbformat_minor": 1
}
